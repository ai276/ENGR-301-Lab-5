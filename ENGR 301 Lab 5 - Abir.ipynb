{
 "cells": [
  {
   "cell_type": "markdown",
   "id": "dce6d806",
   "metadata": {},
   "source": [
    "Abir Islam, Dr. Joshua Young, ENGR 301, Lab 5"
   ]
  },
  {
   "cell_type": "markdown",
   "id": "2cfd48e5",
   "metadata": {},
   "source": [
    "# Part 1:"
   ]
  },
  {
   "cell_type": "markdown",
   "id": "8d808078",
   "metadata": {},
   "source": [
    "Problem 1:"
   ]
  },
  {
   "cell_type": "code",
   "execution_count": 4,
   "id": "d13e8563",
   "metadata": {},
   "outputs": [],
   "source": [
    "import numpy as np\n",
    "import pandas as pd\n",
    "import matplotlib.pyplot as plt\n",
    "import seaborn as sns\n",
    "import scipy.stats as stats\n",
    "%matplotlib inline"
   ]
  },
  {
   "cell_type": "code",
   "execution_count": 5,
   "id": "79840365",
   "metadata": {},
   "outputs": [],
   "source": [
    "df1 = pd.read_csv(\"genes_train.csv\")\n",
    "df2 = pd.read_csv(\"genes_test.csv\")"
   ]
  },
  {
   "cell_type": "markdown",
   "id": "ba5ac136",
   "metadata": {},
   "source": [
    "Problem 2:"
   ]
  },
  {
   "cell_type": "code",
   "execution_count": 6,
   "id": "8881cf2b",
   "metadata": {},
   "outputs": [
    {
     "data": {
      "text/html": [
       "<div>\n",
       "<style scoped>\n",
       "    .dataframe tbody tr th:only-of-type {\n",
       "        vertical-align: middle;\n",
       "    }\n",
       "\n",
       "    .dataframe tbody tr th {\n",
       "        vertical-align: top;\n",
       "    }\n",
       "\n",
       "    .dataframe thead th {\n",
       "        text-align: right;\n",
       "    }\n",
       "</style>\n",
       "<table border=\"1\" class=\"dataframe\">\n",
       "  <thead>\n",
       "    <tr style=\"text-align: right;\">\n",
       "      <th></th>\n",
       "      <th>AFFX-BioB-5_at (endogenous control)</th>\n",
       "      <th>AFFX-BioB-M_at (endogenous control)</th>\n",
       "      <th>AFFX-BioB-3_at (endogenous control)</th>\n",
       "      <th>AFFX-BioC-5_at (endogenous control)</th>\n",
       "      <th>AFFX-BioC-3_at (endogenous control)</th>\n",
       "      <th>AFFX-BioDn-5_at (endogenous control)</th>\n",
       "      <th>AFFX-BioDn-3_at (endogenous control)</th>\n",
       "      <th>AFFX-CreX-5_at (endogenous control)</th>\n",
       "      <th>AFFX-CreX-3_at (endogenous control)</th>\n",
       "      <th>AFFX-BioB-5_st (endogenous control)</th>\n",
       "      <th>...</th>\n",
       "      <th>GB DEF = Calcium/calmodulin-dependent protein kinase II delta E mRNA; partial cds</th>\n",
       "      <th>TUBULIN ALPHA-4 CHAIN</th>\n",
       "      <th>CYP4B1 Cytochrome P450; subfamily IVB; polypeptide 1</th>\n",
       "      <th>PTGER3 Prostaglandin E receptor 3 (subtype EP3) {alternative products}.2</th>\n",
       "      <th>HMG2 High-mobility group (nonhistone chromosomal) protein 2.1</th>\n",
       "      <th>RB1 Retinoblastoma 1 (including osteosarcoma).1</th>\n",
       "      <th>GB DEF = Glycophorin Sta (type A) exons 3 and 4; partial</th>\n",
       "      <th>GB DEF = mRNA (clone 1A7)</th>\n",
       "      <th>patient</th>\n",
       "      <th>cancer type</th>\n",
       "    </tr>\n",
       "  </thead>\n",
       "  <tbody>\n",
       "    <tr>\n",
       "      <th>0</th>\n",
       "      <td>-214</td>\n",
       "      <td>-153</td>\n",
       "      <td>-58</td>\n",
       "      <td>88</td>\n",
       "      <td>-295</td>\n",
       "      <td>-558</td>\n",
       "      <td>199</td>\n",
       "      <td>-176</td>\n",
       "      <td>252</td>\n",
       "      <td>206</td>\n",
       "      <td>...</td>\n",
       "      <td>-125</td>\n",
       "      <td>389</td>\n",
       "      <td>-37</td>\n",
       "      <td>793</td>\n",
       "      <td>329</td>\n",
       "      <td>36</td>\n",
       "      <td>191</td>\n",
       "      <td>-37</td>\n",
       "      <td>1</td>\n",
       "      <td>ALL</td>\n",
       "    </tr>\n",
       "    <tr>\n",
       "      <th>1</th>\n",
       "      <td>-139</td>\n",
       "      <td>-73</td>\n",
       "      <td>-1</td>\n",
       "      <td>283</td>\n",
       "      <td>-264</td>\n",
       "      <td>-400</td>\n",
       "      <td>-330</td>\n",
       "      <td>-168</td>\n",
       "      <td>101</td>\n",
       "      <td>74</td>\n",
       "      <td>...</td>\n",
       "      <td>-36</td>\n",
       "      <td>442</td>\n",
       "      <td>-17</td>\n",
       "      <td>782</td>\n",
       "      <td>295</td>\n",
       "      <td>11</td>\n",
       "      <td>76</td>\n",
       "      <td>-14</td>\n",
       "      <td>2</td>\n",
       "      <td>ALL</td>\n",
       "    </tr>\n",
       "    <tr>\n",
       "      <th>2</th>\n",
       "      <td>-76</td>\n",
       "      <td>-49</td>\n",
       "      <td>-307</td>\n",
       "      <td>309</td>\n",
       "      <td>-376</td>\n",
       "      <td>-650</td>\n",
       "      <td>33</td>\n",
       "      <td>-367</td>\n",
       "      <td>206</td>\n",
       "      <td>-215</td>\n",
       "      <td>...</td>\n",
       "      <td>33</td>\n",
       "      <td>168</td>\n",
       "      <td>52</td>\n",
       "      <td>1138</td>\n",
       "      <td>777</td>\n",
       "      <td>41</td>\n",
       "      <td>228</td>\n",
       "      <td>-41</td>\n",
       "      <td>3</td>\n",
       "      <td>ALL</td>\n",
       "    </tr>\n",
       "    <tr>\n",
       "      <th>3</th>\n",
       "      <td>-135</td>\n",
       "      <td>-114</td>\n",
       "      <td>265</td>\n",
       "      <td>12</td>\n",
       "      <td>-419</td>\n",
       "      <td>-585</td>\n",
       "      <td>158</td>\n",
       "      <td>-253</td>\n",
       "      <td>49</td>\n",
       "      <td>31</td>\n",
       "      <td>...</td>\n",
       "      <td>218</td>\n",
       "      <td>174</td>\n",
       "      <td>-110</td>\n",
       "      <td>627</td>\n",
       "      <td>170</td>\n",
       "      <td>-50</td>\n",
       "      <td>126</td>\n",
       "      <td>-91</td>\n",
       "      <td>4</td>\n",
       "      <td>ALL</td>\n",
       "    </tr>\n",
       "    <tr>\n",
       "      <th>4</th>\n",
       "      <td>-106</td>\n",
       "      <td>-125</td>\n",
       "      <td>-76</td>\n",
       "      <td>168</td>\n",
       "      <td>-230</td>\n",
       "      <td>-284</td>\n",
       "      <td>4</td>\n",
       "      <td>-122</td>\n",
       "      <td>70</td>\n",
       "      <td>252</td>\n",
       "      <td>...</td>\n",
       "      <td>57</td>\n",
       "      <td>504</td>\n",
       "      <td>-26</td>\n",
       "      <td>250</td>\n",
       "      <td>314</td>\n",
       "      <td>14</td>\n",
       "      <td>56</td>\n",
       "      <td>-25</td>\n",
       "      <td>5</td>\n",
       "      <td>ALL</td>\n",
       "    </tr>\n",
       "  </tbody>\n",
       "</table>\n",
       "<p>5 rows × 7131 columns</p>\n",
       "</div>"
      ],
      "text/plain": [
       "   AFFX-BioB-5_at (endogenous control)  AFFX-BioB-M_at (endogenous control)  \\\n",
       "0                                 -214                                 -153   \n",
       "1                                 -139                                  -73   \n",
       "2                                  -76                                  -49   \n",
       "3                                 -135                                 -114   \n",
       "4                                 -106                                 -125   \n",
       "\n",
       "   AFFX-BioB-3_at (endogenous control)  AFFX-BioC-5_at (endogenous control)  \\\n",
       "0                                  -58                                   88   \n",
       "1                                   -1                                  283   \n",
       "2                                 -307                                  309   \n",
       "3                                  265                                   12   \n",
       "4                                  -76                                  168   \n",
       "\n",
       "   AFFX-BioC-3_at (endogenous control)  AFFX-BioDn-5_at (endogenous control)  \\\n",
       "0                                 -295                                  -558   \n",
       "1                                 -264                                  -400   \n",
       "2                                 -376                                  -650   \n",
       "3                                 -419                                  -585   \n",
       "4                                 -230                                  -284   \n",
       "\n",
       "   AFFX-BioDn-3_at (endogenous control)  AFFX-CreX-5_at (endogenous control)  \\\n",
       "0                                   199                                 -176   \n",
       "1                                  -330                                 -168   \n",
       "2                                    33                                 -367   \n",
       "3                                   158                                 -253   \n",
       "4                                     4                                 -122   \n",
       "\n",
       "   AFFX-CreX-3_at (endogenous control)  AFFX-BioB-5_st (endogenous control)  \\\n",
       "0                                  252                                  206   \n",
       "1                                  101                                   74   \n",
       "2                                  206                                 -215   \n",
       "3                                   49                                   31   \n",
       "4                                   70                                  252   \n",
       "\n",
       "   ...  \\\n",
       "0  ...   \n",
       "1  ...   \n",
       "2  ...   \n",
       "3  ...   \n",
       "4  ...   \n",
       "\n",
       "   GB DEF = Calcium/calmodulin-dependent protein kinase II delta E mRNA; partial cds  \\\n",
       "0                                               -125                                   \n",
       "1                                                -36                                   \n",
       "2                                                 33                                   \n",
       "3                                                218                                   \n",
       "4                                                 57                                   \n",
       "\n",
       "   TUBULIN ALPHA-4 CHAIN  \\\n",
       "0                    389   \n",
       "1                    442   \n",
       "2                    168   \n",
       "3                    174   \n",
       "4                    504   \n",
       "\n",
       "   CYP4B1 Cytochrome P450; subfamily IVB; polypeptide 1  \\\n",
       "0                                                -37      \n",
       "1                                                -17      \n",
       "2                                                 52      \n",
       "3                                               -110      \n",
       "4                                                -26      \n",
       "\n",
       "   PTGER3 Prostaglandin E receptor 3 (subtype EP3) {alternative products}.2  \\\n",
       "0                                                793                          \n",
       "1                                                782                          \n",
       "2                                               1138                          \n",
       "3                                                627                          \n",
       "4                                                250                          \n",
       "\n",
       "   HMG2 High-mobility group (nonhistone chromosomal) protein 2.1  \\\n",
       "0                                                329               \n",
       "1                                                295               \n",
       "2                                                777               \n",
       "3                                                170               \n",
       "4                                                314               \n",
       "\n",
       "   RB1 Retinoblastoma 1 (including osteosarcoma).1  \\\n",
       "0                                               36   \n",
       "1                                               11   \n",
       "2                                               41   \n",
       "3                                              -50   \n",
       "4                                               14   \n",
       "\n",
       "   GB DEF = Glycophorin Sta (type A) exons 3 and 4; partial  \\\n",
       "0                                                191          \n",
       "1                                                 76          \n",
       "2                                                228          \n",
       "3                                                126          \n",
       "4                                                 56          \n",
       "\n",
       "   GB DEF = mRNA (clone 1A7)  patient  cancer type  \n",
       "0                        -37        1          ALL  \n",
       "1                        -14        2          ALL  \n",
       "2                        -41        3          ALL  \n",
       "3                        -91        4          ALL  \n",
       "4                        -25        5          ALL  \n",
       "\n",
       "[5 rows x 7131 columns]"
      ]
     },
     "execution_count": 6,
     "metadata": {},
     "output_type": "execute_result"
    }
   ],
   "source": [
    "df1.head()"
   ]
  },
  {
   "cell_type": "code",
   "execution_count": 7,
   "id": "264ae121",
   "metadata": {},
   "outputs": [
    {
     "data": {
      "text/html": [
       "<div>\n",
       "<style scoped>\n",
       "    .dataframe tbody tr th:only-of-type {\n",
       "        vertical-align: middle;\n",
       "    }\n",
       "\n",
       "    .dataframe tbody tr th {\n",
       "        vertical-align: top;\n",
       "    }\n",
       "\n",
       "    .dataframe thead th {\n",
       "        text-align: right;\n",
       "    }\n",
       "</style>\n",
       "<table border=\"1\" class=\"dataframe\">\n",
       "  <thead>\n",
       "    <tr style=\"text-align: right;\">\n",
       "      <th></th>\n",
       "      <th>AFFX-BioB-5_at (endogenous control)</th>\n",
       "      <th>AFFX-BioB-M_at (endogenous control)</th>\n",
       "      <th>AFFX-BioB-3_at (endogenous control)</th>\n",
       "      <th>AFFX-BioC-5_at (endogenous control)</th>\n",
       "      <th>AFFX-BioC-3_at (endogenous control)</th>\n",
       "      <th>AFFX-BioDn-5_at (endogenous control)</th>\n",
       "      <th>AFFX-BioDn-3_at (endogenous control)</th>\n",
       "      <th>AFFX-CreX-5_at (endogenous control)</th>\n",
       "      <th>AFFX-CreX-3_at (endogenous control)</th>\n",
       "      <th>AFFX-BioB-5_st (endogenous control)</th>\n",
       "      <th>...</th>\n",
       "      <th>GB DEF = Calcium/calmodulin-dependent protein kinase II delta E mRNA; partial cds</th>\n",
       "      <th>TUBULIN ALPHA-4 CHAIN</th>\n",
       "      <th>CYP4B1 Cytochrome P450; subfamily IVB; polypeptide 1</th>\n",
       "      <th>PTGER3 Prostaglandin E receptor 3 (subtype EP3) {alternative products}.2</th>\n",
       "      <th>HMG2 High-mobility group (nonhistone chromosomal) protein 2.1</th>\n",
       "      <th>RB1 Retinoblastoma 1 (including osteosarcoma).1</th>\n",
       "      <th>GB DEF = Glycophorin Sta (type A) exons 3 and 4; partial</th>\n",
       "      <th>GB DEF = mRNA (clone 1A7)</th>\n",
       "      <th>patient</th>\n",
       "      <th>cancer type</th>\n",
       "    </tr>\n",
       "  </thead>\n",
       "  <tbody>\n",
       "    <tr>\n",
       "      <th>35</th>\n",
       "      <td>-213</td>\n",
       "      <td>-252</td>\n",
       "      <td>136</td>\n",
       "      <td>318</td>\n",
       "      <td>-209</td>\n",
       "      <td>-557</td>\n",
       "      <td>40</td>\n",
       "      <td>-243</td>\n",
       "      <td>119</td>\n",
       "      <td>-131</td>\n",
       "      <td>...</td>\n",
       "      <td>67</td>\n",
       "      <td>486</td>\n",
       "      <td>-88</td>\n",
       "      <td>1293</td>\n",
       "      <td>342</td>\n",
       "      <td>26</td>\n",
       "      <td>246</td>\n",
       "      <td>23</td>\n",
       "      <td>36</td>\n",
       "      <td>AML</td>\n",
       "    </tr>\n",
       "    <tr>\n",
       "      <th>36</th>\n",
       "      <td>-25</td>\n",
       "      <td>-20</td>\n",
       "      <td>124</td>\n",
       "      <td>325</td>\n",
       "      <td>-396</td>\n",
       "      <td>-464</td>\n",
       "      <td>-221</td>\n",
       "      <td>-390</td>\n",
       "      <td>-1</td>\n",
       "      <td>358</td>\n",
       "      <td>...</td>\n",
       "      <td>-32</td>\n",
       "      <td>334</td>\n",
       "      <td>35</td>\n",
       "      <td>1733</td>\n",
       "      <td>304</td>\n",
       "      <td>12</td>\n",
       "      <td>3193</td>\n",
       "      <td>-33</td>\n",
       "      <td>37</td>\n",
       "      <td>AML</td>\n",
       "    </tr>\n",
       "    <tr>\n",
       "      <th>37</th>\n",
       "      <td>-72</td>\n",
       "      <td>-139</td>\n",
       "      <td>-1</td>\n",
       "      <td>392</td>\n",
       "      <td>-324</td>\n",
       "      <td>-510</td>\n",
       "      <td>-350</td>\n",
       "      <td>-202</td>\n",
       "      <td>249</td>\n",
       "      <td>561</td>\n",
       "      <td>...</td>\n",
       "      <td>102</td>\n",
       "      <td>330</td>\n",
       "      <td>-112</td>\n",
       "      <td>1567</td>\n",
       "      <td>627</td>\n",
       "      <td>21</td>\n",
       "      <td>2520</td>\n",
       "      <td>0</td>\n",
       "      <td>38</td>\n",
       "      <td>AML</td>\n",
       "    </tr>\n",
       "    <tr>\n",
       "      <th>38</th>\n",
       "      <td>-342</td>\n",
       "      <td>-200</td>\n",
       "      <td>41</td>\n",
       "      <td>328</td>\n",
       "      <td>-224</td>\n",
       "      <td>-427</td>\n",
       "      <td>-656</td>\n",
       "      <td>-292</td>\n",
       "      <td>137</td>\n",
       "      <td>-144</td>\n",
       "      <td>...</td>\n",
       "      <td>67</td>\n",
       "      <td>214</td>\n",
       "      <td>-135</td>\n",
       "      <td>1074</td>\n",
       "      <td>475</td>\n",
       "      <td>48</td>\n",
       "      <td>168</td>\n",
       "      <td>-70</td>\n",
       "      <td>39</td>\n",
       "      <td>ALL</td>\n",
       "    </tr>\n",
       "    <tr>\n",
       "      <th>39</th>\n",
       "      <td>-87</td>\n",
       "      <td>-248</td>\n",
       "      <td>262</td>\n",
       "      <td>295</td>\n",
       "      <td>-226</td>\n",
       "      <td>-493</td>\n",
       "      <td>367</td>\n",
       "      <td>-452</td>\n",
       "      <td>194</td>\n",
       "      <td>162</td>\n",
       "      <td>...</td>\n",
       "      <td>-295</td>\n",
       "      <td>352</td>\n",
       "      <td>-67</td>\n",
       "      <td>67</td>\n",
       "      <td>263</td>\n",
       "      <td>-33</td>\n",
       "      <td>-33</td>\n",
       "      <td>-21</td>\n",
       "      <td>40</td>\n",
       "      <td>ALL</td>\n",
       "    </tr>\n",
       "  </tbody>\n",
       "</table>\n",
       "<p>5 rows × 7131 columns</p>\n",
       "</div>"
      ],
      "text/plain": [
       "    AFFX-BioB-5_at (endogenous control)  AFFX-BioB-M_at (endogenous control)  \\\n",
       "35                                 -213                                 -252   \n",
       "36                                  -25                                  -20   \n",
       "37                                  -72                                 -139   \n",
       "38                                 -342                                 -200   \n",
       "39                                  -87                                 -248   \n",
       "\n",
       "    AFFX-BioB-3_at (endogenous control)  AFFX-BioC-5_at (endogenous control)  \\\n",
       "35                                  136                                  318   \n",
       "36                                  124                                  325   \n",
       "37                                   -1                                  392   \n",
       "38                                   41                                  328   \n",
       "39                                  262                                  295   \n",
       "\n",
       "    AFFX-BioC-3_at (endogenous control)  AFFX-BioDn-5_at (endogenous control)  \\\n",
       "35                                 -209                                  -557   \n",
       "36                                 -396                                  -464   \n",
       "37                                 -324                                  -510   \n",
       "38                                 -224                                  -427   \n",
       "39                                 -226                                  -493   \n",
       "\n",
       "    AFFX-BioDn-3_at (endogenous control)  AFFX-CreX-5_at (endogenous control)  \\\n",
       "35                                    40                                 -243   \n",
       "36                                  -221                                 -390   \n",
       "37                                  -350                                 -202   \n",
       "38                                  -656                                 -292   \n",
       "39                                   367                                 -452   \n",
       "\n",
       "    AFFX-CreX-3_at (endogenous control)  AFFX-BioB-5_st (endogenous control)  \\\n",
       "35                                  119                                 -131   \n",
       "36                                   -1                                  358   \n",
       "37                                  249                                  561   \n",
       "38                                  137                                 -144   \n",
       "39                                  194                                  162   \n",
       "\n",
       "    ...  \\\n",
       "35  ...   \n",
       "36  ...   \n",
       "37  ...   \n",
       "38  ...   \n",
       "39  ...   \n",
       "\n",
       "    GB DEF = Calcium/calmodulin-dependent protein kinase II delta E mRNA; partial cds  \\\n",
       "35                                                 67                                   \n",
       "36                                                -32                                   \n",
       "37                                                102                                   \n",
       "38                                                 67                                   \n",
       "39                                               -295                                   \n",
       "\n",
       "    TUBULIN ALPHA-4 CHAIN  \\\n",
       "35                    486   \n",
       "36                    334   \n",
       "37                    330   \n",
       "38                    214   \n",
       "39                    352   \n",
       "\n",
       "    CYP4B1 Cytochrome P450; subfamily IVB; polypeptide 1  \\\n",
       "35                                                -88      \n",
       "36                                                 35      \n",
       "37                                               -112      \n",
       "38                                               -135      \n",
       "39                                                -67      \n",
       "\n",
       "    PTGER3 Prostaglandin E receptor 3 (subtype EP3) {alternative products}.2  \\\n",
       "35                                               1293                          \n",
       "36                                               1733                          \n",
       "37                                               1567                          \n",
       "38                                               1074                          \n",
       "39                                                 67                          \n",
       "\n",
       "    HMG2 High-mobility group (nonhistone chromosomal) protein 2.1  \\\n",
       "35                                                342               \n",
       "36                                                304               \n",
       "37                                                627               \n",
       "38                                                475               \n",
       "39                                                263               \n",
       "\n",
       "    RB1 Retinoblastoma 1 (including osteosarcoma).1  \\\n",
       "35                                               26   \n",
       "36                                               12   \n",
       "37                                               21   \n",
       "38                                               48   \n",
       "39                                              -33   \n",
       "\n",
       "    GB DEF = Glycophorin Sta (type A) exons 3 and 4; partial  \\\n",
       "35                                                246          \n",
       "36                                               3193          \n",
       "37                                               2520          \n",
       "38                                                168          \n",
       "39                                                -33          \n",
       "\n",
       "    GB DEF = mRNA (clone 1A7)  patient  cancer type  \n",
       "35                         23       36          AML  \n",
       "36                        -33       37          AML  \n",
       "37                          0       38          AML  \n",
       "38                        -70       39          ALL  \n",
       "39                        -21       40          ALL  \n",
       "\n",
       "[5 rows x 7131 columns]"
      ]
     },
     "execution_count": 7,
     "metadata": {},
     "output_type": "execute_result"
    }
   ],
   "source": [
    "df1.tail()"
   ]
  },
  {
   "cell_type": "markdown",
   "id": "829a438c",
   "metadata": {},
   "source": [
    "Problem 3:"
   ]
  },
  {
   "cell_type": "code",
   "execution_count": 8,
   "id": "7e78d35c",
   "metadata": {},
   "outputs": [
    {
     "data": {
      "text/plain": [
       "(40, 7131)"
      ]
     },
     "execution_count": 8,
     "metadata": {},
     "output_type": "execute_result"
    }
   ],
   "source": [
    "df1.shape"
   ]
  },
  {
   "cell_type": "markdown",
   "id": "d91a3d55",
   "metadata": {},
   "source": [
    "40 patients in the training data and 7131 genes that were tested. It is not balanced."
   ]
  },
  {
   "cell_type": "markdown",
   "id": "fdd9b1ad",
   "metadata": {},
   "source": [
    "Problem 4:"
   ]
  },
  {
   "cell_type": "code",
   "execution_count": 9,
   "id": "64886eff",
   "metadata": {},
   "outputs": [
    {
     "data": {
      "text/plain": [
       "(array([29.,  0.,  0.,  0.,  0.,  0.,  0.,  0.,  0., 11.]),\n",
       " array([0. , 0.1, 0.2, 0.3, 0.4, 0.5, 0.6, 0.7, 0.8, 0.9, 1. ]),\n",
       " <BarContainer object of 10 artists>)"
      ]
     },
     "execution_count": 9,
     "metadata": {},
     "output_type": "execute_result"
    },
    {
     "data": {
      "image/png": "[encoded data removed]",
      "text/plain": [
       "<Figure size 640x480 with 1 Axes>"
      ]
     },
     "metadata": {},
     "output_type": "display_data"
    }
   ],
   "source": [
    "plt.hist(df1[\"cancer type\"])"
   ]
  },
  {
   "cell_type": "markdown",
   "id": "4c804cfc",
   "metadata": {},
   "source": [
    "There is 29 patients with ALL and 11 with AML. Thus us not balanced because there is more tha 2x the amount of patients on one side."
   ]
  },
  {
   "cell_type": "code",
   "execution_count": 10,
   "id": "72a1ca7f",
   "metadata": {},
   "outputs": [
    {
     "data": {
      "text/plain": [
       "(array([18.,  0.,  0.,  0.,  0.,  0.,  0.,  0.,  0., 14.]),\n",
       " array([0. , 0.1, 0.2, 0.3, 0.4, 0.5, 0.6, 0.7, 0.8, 0.9, 1. ]),\n",
       " <BarContainer object of 10 artists>)"
      ]
     },
     "execution_count": 10,
     "metadata": {},
     "output_type": "execute_result"
    },
    {
     "data": {
      "image/png": "[encoded data removed]",
      "text/plain": [
       "<Figure size 640x480 with 1 Axes>"
      ]
     },
     "metadata": {},
     "output_type": "display_data"
    }
   ],
   "source": [
    "plt.hist(df2[\"cancer type\"])"
   ]
  },
  {
   "cell_type": "markdown",
   "id": "4971383d",
   "metadata": {},
   "source": [
    "There is about 18 patients with ALL and 14 with AML, making it more balanced than the previous chart."
   ]
  },
  {
   "cell_type": "markdown",
   "id": "91e50442",
   "metadata": {},
   "source": [
    "Problem 5:"
   ]
  },
  {
   "cell_type": "code",
   "execution_count": 11,
   "id": "3778940e",
   "metadata": {},
   "outputs": [
    {
     "name": "stderr",
     "output_type": "stream",
     "text": [
      "C:\\Users\\Abir\\AppData\\Local\\Temp\\ipykernel_3196\\928018867.py:1: FutureWarning: Dropping of nuisance columns in DataFrame reductions (with 'numeric_only=None') is deprecated; in a future version this will raise TypeError.  Select only valid columns before calling the reduction.\n",
      "  df1.max(axis=1)\n"
     ]
    },
    {
     "data": {
      "text/plain": [
       "0     31086\n",
       "1     29288\n",
       "2     28056\n",
       "3     31449\n",
       "4     29543\n",
       "5     38467\n",
       "6     41911\n",
       "7     40065\n",
       "8     23602\n",
       "9     28033\n",
       "10    25966\n",
       "11    30546\n",
       "12    30797\n",
       "13    28519\n",
       "14    30256\n",
       "15    27268\n",
       "16    28952\n",
       "17    32645\n",
       "18    33143\n",
       "19    27358\n",
       "20    33548\n",
       "21    39558\n",
       "22    36417\n",
       "23    27983\n",
       "24    32785\n",
       "25    31614\n",
       "26    31261\n",
       "27    29833\n",
       "28    30354\n",
       "29    25055\n",
       "30    28350\n",
       "31    25093\n",
       "32    32946\n",
       "33    28698\n",
       "34    61228\n",
       "35    37164\n",
       "36    32204\n",
       "37    29169\n",
       "38    45815\n",
       "39    29136\n",
       "dtype: int64"
      ]
     },
     "execution_count": 11,
     "metadata": {},
     "output_type": "execute_result"
    }
   ],
   "source": [
    "df1.max(axis=1)"
   ]
  },
  {
   "cell_type": "code",
   "execution_count": 12,
   "id": "4b10a659",
   "metadata": {},
   "outputs": [
    {
     "name": "stderr",
     "output_type": "stream",
     "text": [
      "C:\\Users\\Abir\\AppData\\Local\\Temp\\ipykernel_3196\\28183451.py:1: FutureWarning: Dropping of nuisance columns in DataFrame reductions (with 'numeric_only=None') is deprecated; in a future version this will raise TypeError.  Select only valid columns before calling the reduction.\n",
      "  df1.min(axis=1)\n"
     ]
    },
    {
     "data": {
      "text/plain": [
       "0    -19826\n",
       "1    -17930\n",
       "2    -27182\n",
       "3    -23396\n",
       "4    -10339\n",
       "5    -21658\n",
       "6    -24024\n",
       "7    -27570\n",
       "8    -25171\n",
       "9    -12500\n",
       "10   -17480\n",
       "11   -15256\n",
       "12   -12854\n",
       "13   -14937\n",
       "14   -13380\n",
       "15   -10492\n",
       "16   -19523\n",
       "17    -8692\n",
       "18   -11572\n",
       "19   -13838\n",
       "20    -7397\n",
       "21   -17179\n",
       "22   -14937\n",
       "23   -17368\n",
       "24   -17377\n",
       "25   -10652\n",
       "26   -20406\n",
       "27   -20376\n",
       "28    -9501\n",
       "29   -17580\n",
       "30   -25491\n",
       "31   -28400\n",
       "32   -27811\n",
       "33   -17310\n",
       "34   -16281\n",
       "35   -27398\n",
       "36   -23673\n",
       "37   -23645\n",
       "38   -21984\n",
       "39   -21296\n",
       "dtype: int64"
      ]
     },
     "execution_count": 12,
     "metadata": {},
     "output_type": "execute_result"
    }
   ],
   "source": [
    "df1.min(axis=1)"
   ]
  },
  {
   "cell_type": "code",
   "execution_count": 13,
   "id": "cbed5fc0",
   "metadata": {},
   "outputs": [
    {
     "name": "stderr",
     "output_type": "stream",
     "text": [
      "C:\\Users\\Abir\\AppData\\Local\\Temp\\ipykernel_3196\\1587053943.py:1: FutureWarning: Dropping of nuisance columns in DataFrame reductions (with 'numeric_only=None') is deprecated; in a future version this will raise TypeError.  Select only valid columns before calling the reduction.\n",
      "  df1.mean(axis=1)\n"
     ]
    },
    {
     "data": {
      "text/plain": [
       "0     641.277279\n",
       "1     690.149790\n",
       "2     698.210379\n",
       "3     600.901543\n",
       "4     679.438289\n",
       "5     564.719355\n",
       "6     584.356662\n",
       "7     571.280084\n",
       "8     789.604208\n",
       "9     599.400421\n",
       "10    632.166760\n",
       "11    492.532819\n",
       "12    674.563815\n",
       "13    648.522581\n",
       "14    705.682188\n",
       "15    624.492847\n",
       "16    791.292987\n",
       "17    557.489902\n",
       "18    558.555820\n",
       "19    954.292006\n",
       "20    577.572230\n",
       "21    524.687798\n",
       "22    532.180926\n",
       "23    662.077279\n",
       "24    597.783450\n",
       "25    603.232398\n",
       "26    501.277279\n",
       "27    673.188920\n",
       "28    556.389201\n",
       "29    718.837868\n",
       "30    598.569285\n",
       "31    676.830435\n",
       "32    723.466620\n",
       "33    618.776578\n",
       "34    514.429453\n",
       "35    775.039832\n",
       "36    689.156662\n",
       "37    626.803366\n",
       "38    582.118794\n",
       "39    527.750912\n",
       "dtype: float64"
      ]
     },
     "execution_count": 13,
     "metadata": {},
     "output_type": "execute_result"
    }
   ],
   "source": [
    "df1.mean(axis=1)"
   ]
  },
  {
   "cell_type": "markdown",
   "id": "e766c5d5",
   "metadata": {},
   "source": [
    "The values for each of the 3 are very wide spread for each patient. The difference means that the data is not on the same scale. I believe this is an issue and should be scaled."
   ]
  },
  {
   "cell_type": "markdown",
   "id": "d3e5e86b",
   "metadata": {},
   "source": [
    "Problem 6:"
   ]
  },
  {
   "cell_type": "code",
   "execution_count": 14,
   "id": "2cc445f2",
   "metadata": {},
   "outputs": [],
   "source": [
    "x_train = df1.drop([\"cancer type\",\"patient\"], axis = 1)\n",
    "y_train = df1[\"cancer type\"]\n",
    "x_test = df2.drop([\"cancer type\",\"patient\"], axis = 1) \n",
    "y_test = df2[\"cancer type\"]"
   ]
  },
  {
   "cell_type": "markdown",
   "id": "bf7c1e31",
   "metadata": {},
   "source": [
    "I dropped both the patient and cancer type data."
   ]
  },
  {
   "cell_type": "markdown",
   "id": "0f09f886",
   "metadata": {},
   "source": [
    "Problem 7:"
   ]
  },
  {
   "cell_type": "code",
   "execution_count": 15,
   "id": "cf2ab42f",
   "metadata": {},
   "outputs": [],
   "source": [
    "# Part a\n",
    "\n",
    "from sklearn.preprocessing import StandardScaler\n",
    "scaler = StandardScaler()\n",
    "\n",
    "x_train_scaled = scaler.fit_transform(x_train)\n",
    "x_test_scaled = scaler.fit_transform(x_test)"
   ]
  },
  {
   "cell_type": "code",
   "execution_count": 16,
   "id": "56e33616",
   "metadata": {},
   "outputs": [
    {
     "name": "stdout",
     "output_type": "stream",
     "text": [
      "1.0\n",
      "[[18  0]\n",
      " [ 8  6]]\n",
      "Accuracy: 0.75\n"
     ]
    }
   ],
   "source": [
    "# Part b\n",
    "\n",
    "from sklearn.linear_model import LogisticRegression\n",
    "\n",
    "model = LogisticRegression()\n",
    "model.fit(x_train_scaled, y_train)\n",
    "y_pred = model.predict(x_test_scaled)\n",
    "print(model.score(x_train_scaled, y_train))\n",
    "\n",
    "from sklearn import metrics \n",
    "cm = metrics.confusion_matrix(y_test, y_pred)\n",
    "print(cm)\n",
    "print(\"Accuracy:\", metrics.accuracy_score(y_test, y_pred))"
   ]
  },
  {
   "cell_type": "markdown",
   "id": "d6e944f6",
   "metadata": {},
   "source": [
    "Score is 1, accuracy is 0.75, the matrix shows 24 total patients."
   ]
  },
  {
   "cell_type": "code",
   "execution_count": 17,
   "id": "1c977470",
   "metadata": {},
   "outputs": [
    {
     "name": "stdout",
     "output_type": "stream",
     "text": [
      "1.0\n",
      "[[18  0]\n",
      " [ 7  7]]\n",
      "Accuarcy:  0.78125\n"
     ]
    }
   ],
   "source": [
    "# Part c\n",
    "\n",
    "from sklearn.naive_bayes import GaussianNB\n",
    "\n",
    "model = GaussianNB()\n",
    "model.fit(x_train_scaled, y_train)\n",
    "y_pred = model.predict(x_test_scaled)\n",
    "print(model.score(x_train_scaled, y_train))\n",
    "cm = metrics.confusion_matrix(y_test, y_pred)\n",
    "print(cm)\n",
    "print(\"Accuarcy: \", metrics.accuracy_score(y_test, y_pred))"
   ]
  },
  {
   "cell_type": "markdown",
   "id": "17bfd508",
   "metadata": {},
   "source": [
    "Score is 1, accuracy is 0.78125, matrix shows 25 patients."
   ]
  },
  {
   "cell_type": "code",
   "execution_count": 18,
   "id": "6ba95421",
   "metadata": {},
   "outputs": [],
   "source": [
    "# Part d: The scores are low because data sets are being transformed so that they can fit into a distinct model which we are representing. Teh confusion matrix is saying there is a lot of errors."
   ]
  },
  {
   "cell_type": "markdown",
   "id": "208d0a60",
   "metadata": {},
   "source": [
    "Problem 8:"
   ]
  },
  {
   "cell_type": "code",
   "execution_count": 19,
   "id": "35475b59",
   "metadata": {},
   "outputs": [],
   "source": [
    "# Part a\n",
    "\n",
    "x_train_scaled2 = (x_train - x_train.mean()) / x_train.std()"
   ]
  },
  {
   "cell_type": "code",
   "execution_count": 20,
   "id": "a075cf75",
   "metadata": {},
   "outputs": [],
   "source": [
    "# Part b\n",
    "\n",
    "x_test_scaled2 = (x_test - x_train.mean()) / x_train.std()"
   ]
  },
  {
   "cell_type": "code",
   "execution_count": 21,
   "id": "771ac7c5",
   "metadata": {},
   "outputs": [
    {
     "name": "stdout",
     "output_type": "stream",
     "text": [
      "1.0\n",
      "[[18  0]\n",
      " [ 6  8]]\n",
      "Accuracy: 0.8125\n"
     ]
    }
   ],
   "source": [
    "# Part c\n",
    "\n",
    "model2 = LogisticRegression()\n",
    "model2.fit(x_train_scaled2, y_train)\n",
    "y_pred2 = model2.predict(x_test_scaled2)\n",
    "print(model2.score(x_train_scaled2, y_train))\n",
    "\n",
    "from sklearn import metrics \n",
    "cm = metrics.confusion_matrix(y_test, y_pred2)\n",
    "print(cm)\n",
    "print(\"Accuracy:\", metrics.accuracy_score(y_test, y_pred2))"
   ]
  },
  {
   "cell_type": "code",
   "execution_count": 35,
   "id": "65d57395",
   "metadata": {},
   "outputs": [
    {
     "name": "stdout",
     "output_type": "stream",
     "text": [
      "1.0\n",
      "[[16  2]\n",
      " [ 1 13]]\n",
      "Accuarcy:  0.90625\n"
     ]
    }
   ],
   "source": [
    "model3 = GaussianNB()\n",
    "model3.fit(x_train_scaled2, y_train)\n",
    "\n",
    "y_pred3 = model3.predict(x_test_scaled2)\n",
    "\n",
    "print(model3.score(x_train_scaled2, y_train))\n",
    "cm = metrics.confusion_matrix(y_test, y_pred3)\n",
    "print(cm)\n",
    "print(\"Accuarcy: \", metrics.accuracy_score(y_test, y_pred3))"
   ]
  },
  {
   "cell_type": "markdown",
   "id": "8481e585",
   "metadata": {},
   "source": [
    "For both I still got a score of 1. This imporved the scaling as only the training data was transformed."
   ]
  },
  {
   "cell_type": "markdown",
   "id": "f7a6ae2e",
   "metadata": {},
   "source": [
    "# Part 2:"
   ]
  },
  {
   "cell_type": "markdown",
   "id": "de32889c",
   "metadata": {},
   "source": [
    "Problem 1:"
   ]
  },
  {
   "cell_type": "code",
   "execution_count": 23,
   "id": "4ece8915",
   "metadata": {},
   "outputs": [
    {
     "data": {
      "text/plain": [
       "array([0.14160178, 0.25887229, 0.32470751, 0.3711422 , 0.4159342 ,\n",
       "       0.45375134, 0.49025384, 0.52248996, 0.55250115, 0.57843707])"
      ]
     },
     "execution_count": 23,
     "metadata": {},
     "output_type": "execute_result"
    }
   ],
   "source": [
    "# Part a\n",
    "\n",
    "from sklearn.decomposition import PCA\n",
    "\n",
    "pca = PCA(n_components = 10).fit(x_train_scaled2)\n",
    "pca.explained_variance_ratio_.cumsum()"
   ]
  },
  {
   "cell_type": "code",
   "execution_count": 24,
   "id": "6763893d",
   "metadata": {},
   "outputs": [
    {
     "data": {
      "text/plain": [
       "array([0.14160178, 0.25887229, 0.32470752, 0.37114118, 0.41593312,\n",
       "       0.4537624 , 0.4902701 , 0.52253581, 0.55248881, 0.5784348 ])"
      ]
     },
     "execution_count": 24,
     "metadata": {},
     "output_type": "execute_result"
    }
   ],
   "source": [
    "# Part b\n",
    "\n",
    "pca = PCA(n_components = 10).fit(x_train_scaled2)\n",
    "pca.explained_variance_ratio_.cumsum()"
   ]
  },
  {
   "cell_type": "code",
   "execution_count": 25,
   "id": "7ebceb05",
   "metadata": {},
   "outputs": [
    {
     "data": {
      "text/plain": [
       "array([0.14160178, 0.25887229, 0.32470765, 0.37114265, 0.41593619,\n",
       "       0.45376995, 0.49028724, 0.52255671, 0.55261354, 0.57869256,\n",
       "       0.60328739, 0.62597008, 0.64792102, 0.66882027, 0.68878422,\n",
       "       0.70759811, 0.72544721, 0.74265583, 0.75945568, 0.77532237])"
      ]
     },
     "execution_count": 25,
     "metadata": {},
     "output_type": "execute_result"
    }
   ],
   "source": [
    "pca = PCA(n_components = 20).fit(x_train_scaled2)\n",
    "pca.explained_variance_ratio_.cumsum()"
   ]
  },
  {
   "cell_type": "code",
   "execution_count": 26,
   "id": "6f7b5533",
   "metadata": {},
   "outputs": [
    {
     "data": {
      "text/plain": [
       "array([0.14160178, 0.25887229, 0.32470765, 0.37114269, 0.41593652,\n",
       "       0.45377108, 0.49028899, 0.52256446, 0.55262452, 0.57871474,\n",
       "       0.60331123, 0.62601503, 0.64798886, 0.66892235, 0.68894065,\n",
       "       0.70786795, 0.72580368, 0.74303738, 0.75991715, 0.77579443,\n",
       "       0.79135625, 0.80636007, 0.82059574, 0.83464022, 0.84827473,\n",
       "       0.86159723, 0.87466785, 0.88744908, 0.89998391, 0.91215863])"
      ]
     },
     "execution_count": 26,
     "metadata": {},
     "output_type": "execute_result"
    }
   ],
   "source": [
    "pca = PCA(n_components = 30).fit(x_train_scaled2)\n",
    "pca.explained_variance_ratio_.cumsum()"
   ]
  },
  {
   "cell_type": "code",
   "execution_count": 27,
   "id": "22dccf63",
   "metadata": {},
   "outputs": [
    {
     "data": {
      "text/plain": [
       "array([0.14160178, 0.25887229, 0.32470765, 0.37114269, 0.41593652,\n",
       "       0.45377108, 0.49028899, 0.52256446, 0.55262452, 0.57871474,\n",
       "       0.60331123, 0.62601503, 0.64798886, 0.66892235, 0.68894065,\n",
       "       0.70786795, 0.72580368, 0.74303738, 0.75991715, 0.77579443,\n",
       "       0.79135625, 0.80636007, 0.82059574, 0.83464022, 0.84827473,\n",
       "       0.86159723, 0.87466785, 0.88744908, 0.89998391, 0.91215863,\n",
       "       0.92427847, 0.93560532, 0.94637448, 0.9567996 , 0.9663936 ,\n",
       "       0.97566035, 0.9842495 , 0.99229838, 1.        , 1.        ])"
      ]
     },
     "execution_count": 27,
     "metadata": {},
     "output_type": "execute_result"
    }
   ],
   "source": [
    "pca = PCA(n_components = 40).fit(x_train_scaled2)\n",
    "pca.explained_variance_ratio_.cumsum()"
   ]
  },
  {
   "cell_type": "markdown",
   "id": "7672b1fb",
   "metadata": {},
   "source": [
    "To get 90% we need 30 components."
   ]
  },
  {
   "cell_type": "markdown",
   "id": "4247eca5",
   "metadata": {},
   "source": [
    "Problem 3:"
   ]
  },
  {
   "cell_type": "code",
   "execution_count": 28,
   "id": "56bad69d",
   "metadata": {},
   "outputs": [
    {
     "name": "stdout",
     "output_type": "stream",
     "text": [
      "1.0\n",
      "[[18  0]\n",
      " [ 7  7]]\n",
      "Accuracy: 0.78125\n"
     ]
    }
   ],
   "source": [
    "pca = PCA(n_components = 30).fit(x_train_scaled2)\n",
    "x_train_scaled_pca = pca.transform(x_train_scaled2)\n",
    "x_test_scaled_pca = pca.transform(x_test_scaled2)\n",
    "\n",
    "model4 = LogisticRegression()\n",
    "model4.fit(x_train_scaled_pca, y_train)\n",
    "y_pred4 = model4.predict(x_test_scaled_pca)\n",
    "print(model4.score(x_train_scaled_pca, y_train))\n",
    "\n",
    "from sklearn import metrics \n",
    "cm = metrics.confusion_matrix(y_test, y_pred4)\n",
    "print(cm)\n",
    "print(\"Accuracy:\", metrics.accuracy_score(y_test, y_pred4))"
   ]
  },
  {
   "cell_type": "code",
   "execution_count": 36,
   "id": "a1ca53b9",
   "metadata": {},
   "outputs": [
    {
     "name": "stdout",
     "output_type": "stream",
     "text": [
      "0.975\n",
      "[[18  0]\n",
      " [10  4]]\n",
      "Accuarcy: 0.6875\n"
     ]
    }
   ],
   "source": [
    "model5 = GaussianNB()\n",
    "model5.fit(x_train_scaled_pca, y_train)\n",
    "\n",
    "y_pred5 = model5.predict(x_test_scaled_pca)\n",
    "\n",
    "print(model5.score(x_train_scaled_pca, y_train))\n",
    "cm = metrics.confusion_matrix(y_test, y_pred5)\n",
    "print(cm)\n",
    "print(\"Accuarcy:\", metrics.accuracy_score(y_test, y_pred5))"
   ]
  },
  {
   "cell_type": "markdown",
   "id": "97cb87c8",
   "metadata": {},
   "source": [
    "This data is less accuarte, there are less components to consider. PCA is not appropriate here."
   ]
  },
  {
   "cell_type": "markdown",
   "id": "d729ba7a",
   "metadata": {},
   "source": [
    "# Part 3:"
   ]
  },
  {
   "cell_type": "markdown",
   "id": "8db92561",
   "metadata": {},
   "source": [
    "Problem 1:"
   ]
  },
  {
   "cell_type": "code",
   "execution_count": 30,
   "id": "10ede76a",
   "metadata": {},
   "outputs": [],
   "source": [
    "from imblearn.over_sampling import SMOTE\n",
    "\n",
    "sm = SMOTE()\n",
    "\n",
    "x_bal_train, y_bal_train = sm.fit_resample(x_train_scaled2, y_train)\n",
    "x_bal_test, y_bal_test = sm.fit_resample(x_test_scaled2, y_test)"
   ]
  },
  {
   "cell_type": "code",
   "execution_count": 31,
   "id": "9a252f41",
   "metadata": {},
   "outputs": [
    {
     "name": "stderr",
     "output_type": "stream",
     "text": [
      "C:\\ProgramData\\Anaconda3\\lib\\site-packages\\seaborn\\_decorators.py:36: FutureWarning: Pass the following variable as a keyword arg: x. From version 0.12, the only valid positional argument will be `data`, and passing other arguments without an explicit keyword will result in an error or misinterpretation.\n",
      "  warnings.warn(\n"
     ]
    },
    {
     "data": {
      "text/plain": [
       "<AxesSubplot:xlabel='cancer type', ylabel='count'>"
      ]
     },
     "execution_count": 31,
     "metadata": {},
     "output_type": "execute_result"
    },
    {
     "data": {
      "image/png": "[encoded data removed]",
      "text/plain": [
       "<Figure size 640x480 with 1 Axes>"
      ]
     },
     "metadata": {},
     "output_type": "display_data"
    }
   ],
   "source": [
    "sns.countplot(y_bal_train)"
   ]
  },
  {
   "cell_type": "code",
   "execution_count": 32,
   "id": "e534fd54",
   "metadata": {},
   "outputs": [
    {
     "name": "stderr",
     "output_type": "stream",
     "text": [
      "C:\\ProgramData\\Anaconda3\\lib\\site-packages\\seaborn\\_decorators.py:36: FutureWarning: Pass the following variable as a keyword arg: x. From version 0.12, the only valid positional argument will be `data`, and passing other arguments without an explicit keyword will result in an error or misinterpretation.\n",
      "  warnings.warn(\n"
     ]
    },
    {
     "data": {
      "text/plain": [
       "<AxesSubplot:xlabel='cancer type', ylabel='count'>"
      ]
     },
     "execution_count": 32,
     "metadata": {},
     "output_type": "execute_result"
    },
    {
     "data": {
      "image/png": "[encoded data removed]",
      "text/plain": [
       "<Figure size 640x480 with 1 Axes>"
      ]
     },
     "metadata": {},
     "output_type": "display_data"
    }
   ],
   "source": [
    "sns.countplot(y_bal_test)"
   ]
  },
  {
   "cell_type": "markdown",
   "id": "c7483abe",
   "metadata": {},
   "source": [
    "The training data has a count of 29 whereas the testing data has a count of 18."
   ]
  },
  {
   "cell_type": "markdown",
   "id": "84c95789",
   "metadata": {},
   "source": [
    "Problem 2:"
   ]
  },
  {
   "cell_type": "code",
   "execution_count": 33,
   "id": "c7c94e07",
   "metadata": {},
   "outputs": [
    {
     "name": "stdout",
     "output_type": "stream",
     "text": [
      "1.0\n",
      "[[18  0]\n",
      " [ 7 11]]\n",
      "Accuracy: 0.8055555555555556\n"
     ]
    }
   ],
   "source": [
    "model6 = LogisticRegression()\n",
    "model6.fit(x_bal_train, y_bal_train)\n",
    "y_pred6 = model6.predict(x_bal_test)\n",
    "print(model6.score(x_bal_train, y_bal_train))\n",
    "\n",
    "from sklearn import metrics \n",
    "\n",
    "cm = metrics.confusion_matrix(y_bal_test, y_pred6)\n",
    "print(cm)\n",
    "print(\"Accuracy:\", metrics.accuracy_score(y_bal_test, y_pred6))"
   ]
  },
  {
   "cell_type": "code",
   "execution_count": 34,
   "id": "2b60be1f",
   "metadata": {},
   "outputs": [
    {
     "name": "stdout",
     "output_type": "stream",
     "text": [
      "1.0\n",
      "[[16  2]\n",
      " [ 3 15]]\n",
      "Accuarcy: 0.8611111111111112\n"
     ]
    }
   ],
   "source": [
    "model7 = GaussianNB()\n",
    "model7.fit(x_bal_train, y_bal_train)\n",
    "y_pred7 = model7.predict(x_bal_test)\n",
    "\n",
    "print(model7.score(x_bal_train, y_bal_train))\n",
    "cm = metrics.confusion_matrix(y_bal_test, y_pred7)\n",
    "print(cm)\n",
    "print(\"Accuarcy:\", metrics.accuracy_score(y_bal_test, y_pred7))"
   ]
  },
  {
   "cell_type": "markdown",
   "id": "9cac4c96",
   "metadata": {},
   "source": [
    "The accuracies were 0.8056 and 0.8611. According tot he data the gaussian model predicted the best."
   ]
  },
  {
   "cell_type": "markdown",
   "id": "0f9a4a0c",
   "metadata": {},
   "source": [
    "# Part 4:"
   ]
  },
  {
   "cell_type": "markdown",
   "id": "10ef928a",
   "metadata": {},
   "source": [
    "If I were to build a model from this data I would begin by making sure there were an equal (or similar) amount of outcomes that way the data wasnt so diversely spread. I would use a PCA as it would provide me with enough data points and outcomes to better udnerstand the data at hand."
   ]
  },
  {
   "cell_type": "code",
   "execution_count": null,
   "id": "c0d119a0",
   "metadata": {},
   "outputs": [],
   "source": []
  }
 ],
 "metadata": {
  "kernelspec": {
   "display_name": "Python 3 (ipykernel)",
   "language": "python",
   "name": "python3"
  },
  "language_info": {
   "codemirror_mode": {
    "name": "ipython",
    "version": 3
   },
   "file_extension": ".py",
   "mimetype": "text/x-python",
   "name": "python",
   "nbconvert_exporter": "python",
   "pygments_lexer": "ipython3",
   "version": "3.9.13"
  }
 },
 "nbformat": 4,
 "nbformat_minor": 5
}
